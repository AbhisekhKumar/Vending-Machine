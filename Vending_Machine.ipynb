{
 "cells": [
  {
   "cell_type": "code",
   "execution_count": 42,
   "id": "a6486b3b",
   "metadata": {},
   "outputs": [
    {
     "name": "stdout",
     "output_type": "stream",
     "text": [
      "Enter your required no. of chocholates:2\n",
      "Chocholate\n",
      "Chocholate\n",
      "Thank you\n"
     ]
    }
   ],
   "source": [
    "user_in=int(input(\"Enter your required no. of chocholates:\"))\n",
    "total=5 #total chocholates present\n",
    "for index in range(0,user_in):\n",
    "    print(\"Chocholate\")\n",
    "    #print(index)\n",
    "    if index+1>=total:\n",
    "        print(\"Out Of Stock\")\n",
    "        break\n",
    "print(\"Thank you\")"
   ]
  },
  {
   "cell_type": "code",
   "execution_count": 46,
   "id": "649683d1",
   "metadata": {},
   "outputs": [
    {
     "name": "stdout",
     "output_type": "stream",
     "text": [
      "Enter your required no. of chocholates:6\n",
      "Chocholate\n",
      "Chocholate\n",
      "Chocholate\n",
      "Chocholate\n",
      "Chocholate\n",
      "Out Of Stock\n",
      "Thank you\n"
     ]
    }
   ],
   "source": [
    "user_in=int(input(\"Enter your required no. of chocholates:\"))\n",
    "total=5\n",
    "\n",
    "index=0\n",
    "\n",
    "while index < user_in:\n",
    "    print(\"Chocholate\")\n",
    "    index+=1\n",
    "    if index>=total:\n",
    "        print(\"Out Of Stock\")\n",
    "        break\n",
    "print(\"Thank you\")        "
   ]
  },
  {
   "cell_type": "code",
   "execution_count": null,
   "id": "32f69371",
   "metadata": {},
   "outputs": [],
   "source": []
  },
  {
   "cell_type": "code",
   "execution_count": null,
   "id": "ab961107",
   "metadata": {},
   "outputs": [],
   "source": []
  }
 ],
 "metadata": {
  "kernelspec": {
   "display_name": "Python 3 (ipykernel)",
   "language": "python",
   "name": "python3"
  },
  "language_info": {
   "codemirror_mode": {
    "name": "ipython",
    "version": 3
   },
   "file_extension": ".py",
   "mimetype": "text/x-python",
   "name": "python",
   "nbconvert_exporter": "python",
   "pygments_lexer": "ipython3",
   "version": "3.9.7"
  }
 },
 "nbformat": 4,
 "nbformat_minor": 5
}
